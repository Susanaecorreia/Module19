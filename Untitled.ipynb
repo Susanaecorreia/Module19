{
 "cells": [
  {
   "cell_type": "code",
   "execution_count": 1,
   "id": "cde3cfdb",
   "metadata": {},
   "outputs": [],
   "source": [
    "# Import our dependencies\n",
    "import pandas as pd\n",
    "import matplotlib as plt\n",
    "from sklearn.datasets import make_blobs\n",
    "import sklearn as skl\n",
    "import tensorflow as tf"
   ]
  },
  {
   "cell_type": "code",
   "execution_count": 2,
   "id": "c0fb68ff",
   "metadata": {},
   "outputs": [
    {
     "data": {
      "text/plain": [
       "<AxesSubplot:xlabel='Feature 1', ylabel='Feature 2'>"
      ]
     },
     "execution_count": 2,
     "metadata": {},
     "output_type": "execute_result"
    },
    {
     "data": {
      "image/png": "[encoded data removed]",
      "text/plain": [
       "<Figure size 432x288 with 2 Axes>"
      ]
     },
     "metadata": {
      "needs_background": "light"
     },
     "output_type": "display_data"
    }
   ],
   "source": [
    "# Generate dummy dataset\n",
    "X, y = make_blobs(n_samples=1000, centers=2, n_features=2, random_state=78)\n",
    "\n",
    "# Creating a DataFrame with the dummy data\n",
    "df = pd.DataFrame(X, columns=[\"Feature 1\", \"Feature 2\"])\n",
    "df[\"Target\"] = y\n",
    "\n",
    "# Plotting the dummy data\n",
    "df.plot.scatter(x=\"Feature 1\", y=\"Feature 2\", c=\"Target\", colormap=\"winter\")"
   ]
  },
  {
   "cell_type": "code",
   "execution_count": 3,
   "id": "2c68864a",
   "metadata": {},
   "outputs": [],
   "source": [
    "# Use sklearn to split dataset\n",
    "from sklearn.model_selection import train_test_split\n",
    "X_train, X_test, y_train, y_test = train_test_split(X, y, random_state=78)"
   ]
  },
  {
   "cell_type": "code",
   "execution_count": 4,
   "id": "2a44c02b",
   "metadata": {},
   "outputs": [],
   "source": [
    "# Create scaler instance\n",
    "X_scaler = skl.preprocessing.StandardScaler()\n",
    "\n",
    "# Fit the scaler\n",
    "X_scaler.fit(X_train)\n",
    "\n",
    "# Scale the data\n",
    "X_train_scaled = X_scaler.transform(X_train)\n",
    "X_test_scaled = X_scaler.transform(X_test)"
   ]
  },
  {
   "cell_type": "code",
   "execution_count": 5,
   "id": "e1d275ae",
   "metadata": {},
   "outputs": [],
   "source": [
    "# Create the Keras Sequential model\n",
    "nn_model = tf.keras.models.Sequential()"
   ]
  },
  {
   "cell_type": "code",
   "execution_count": 6,
   "id": "f2344daa",
   "metadata": {},
   "outputs": [],
   "source": [
    "# Add our first Dense layer, including the input layer\n",
    "nn_model.add(tf.keras.layers.Dense(units=1, activation=\"relu\", input_dim=2))"
   ]
  },
  {
   "cell_type": "code",
   "execution_count": 7,
   "id": "5dd8d066",
   "metadata": {},
   "outputs": [],
   "source": [
    "# Add the output layer that uses a probability activation function\n",
    "nn_model.add(tf.keras.layers.Dense(units=1, activation=\"sigmoid\"))"
   ]
  },
  {
   "cell_type": "code",
   "execution_count": 8,
   "id": "a1d6a587",
   "metadata": {},
   "outputs": [
    {
     "name": "stdout",
     "output_type": "stream",
     "text": [
      "Model: \"sequential\"\n",
      "_________________________________________________________________\n",
      "Layer (type)                 Output Shape              Param #   \n",
      "=================================================================\n",
      "dense (Dense)                (None, 1)                 3         \n",
      "_________________________________________________________________\n",
      "dense_1 (Dense)              (None, 1)                 2         \n",
      "=================================================================\n",
      "Total params: 5\n",
      "Trainable params: 5\n",
      "Non-trainable params: 0\n",
      "_________________________________________________________________\n"
     ]
    }
   ],
   "source": [
    "# Check the structure of the Sequential model\n",
    "nn_model.summary()"
   ]
  },
  {
   "cell_type": "code",
   "execution_count": 9,
   "id": "dae199f3",
   "metadata": {},
   "outputs": [],
   "source": [
    "# Compile the Sequential model together and customize metrics\n",
    "nn_model.compile(loss=\"binary_crossentropy\", optimizer=\"adam\", metrics=[\"accuracy\"])"
   ]
  },
  {
   "cell_type": "code",
   "execution_count": 10,
   "id": "ee0a6e40",
   "metadata": {},
   "outputs": [
    {
     "name": "stdout",
     "output_type": "stream",
     "text": [
      "Train on 750 samples\n",
      "Epoch 1/100\n",
      "750/750 [==============================] - 1s 794us/sample - loss: 0.7613 - accuracy: 0.1013\n",
      "Epoch 2/100\n",
      "750/750 [==============================] - 0s 38us/sample - loss: 0.7492 - accuracy: 0.0013\n",
      "Epoch 3/100\n",
      "750/750 [==============================] - 0s 37us/sample - loss: 0.7385 - accuracy: 0.0027\n",
      "Epoch 4/100\n",
      "750/750 [==============================] - 0s 38us/sample - loss: 0.7293 - accuracy: 0.0107\n",
      "Epoch 5/100\n",
      "750/750 [==============================] - 0s 36us/sample - loss: 0.7217 - accuracy: 0.0507\n",
      "Epoch 6/100\n",
      "750/750 [==============================] - 0s 37us/sample - loss: 0.7155 - accuracy: 0.1107\n",
      "Epoch 7/100\n",
      "750/750 [==============================] - 0s 37us/sample - loss: 0.7109 - accuracy: 0.1507\n",
      "Epoch 8/100\n",
      "750/750 [==============================] - 0s 36us/sample - loss: 0.7076 - accuracy: 0.1880\n",
      "Epoch 9/100\n",
      "750/750 [==============================] - 0s 38us/sample - loss: 0.7048 - accuracy: 0.2187\n",
      "Epoch 10/100\n",
      "750/750 [==============================] - 0s 37us/sample - loss: 0.7027 - accuracy: 0.2493\n",
      "Epoch 11/100\n",
      "750/750 [==============================] - 0s 36us/sample - loss: 0.7011 - accuracy: 0.2787\n",
      "Epoch 12/100\n",
      "750/750 [==============================] - 0s 37us/sample - loss: 0.6998 - accuracy: 0.2933\n",
      "Epoch 13/100\n",
      "750/750 [==============================] - 0s 35us/sample - loss: 0.6989 - accuracy: 0.3147\n",
      "Epoch 14/100\n",
      "750/750 [==============================] - 0s 36us/sample - loss: 0.6980 - accuracy: 0.3333\n",
      "Epoch 15/100\n",
      "750/750 [==============================] - 0s 37us/sample - loss: 0.6973 - accuracy: 0.3413\n",
      "Epoch 16/100\n",
      "750/750 [==============================] - 0s 37us/sample - loss: 0.6968 - accuracy: 0.3520\n",
      "Epoch 17/100\n",
      "750/750 [==============================] - 0s 36us/sample - loss: 0.6963 - accuracy: 0.3787\n",
      "Epoch 18/100\n",
      "750/750 [==============================] - 0s 37us/sample - loss: 0.6959 - accuracy: 0.5067\n",
      "Epoch 19/100\n",
      "750/750 [==============================] - 0s 36us/sample - loss: 0.6955 - accuracy: 0.5067\n",
      "Epoch 20/100\n",
      "750/750 [==============================] - 0s 37us/sample - loss: 0.6952 - accuracy: 0.5067\n",
      "Epoch 21/100\n",
      "750/750 [==============================] - 0s 36us/sample - loss: 0.6950 - accuracy: 0.5067\n",
      "Epoch 22/100\n",
      "750/750 [==============================] - 0s 38us/sample - loss: 0.6948 - accuracy: 0.5067\n",
      "Epoch 23/100\n",
      "750/750 [==============================] - 0s 36us/sample - loss: 0.6946 - accuracy: 0.5067\n",
      "Epoch 24/100\n",
      "750/750 [==============================] - 0s 36us/sample - loss: 0.6945 - accuracy: 0.5067\n",
      "Epoch 25/100\n",
      "750/750 [==============================] - 0s 37us/sample - loss: 0.6943 - accuracy: 0.5067\n",
      "Epoch 26/100\n",
      "750/750 [==============================] - 0s 35us/sample - loss: 0.6942 - accuracy: 0.5067\n",
      "Epoch 27/100\n",
      "750/750 [==============================] - 0s 36us/sample - loss: 0.6941 - accuracy: 0.5067\n",
      "Epoch 28/100\n",
      "750/750 [==============================] - 0s 38us/sample - loss: 0.6940 - accuracy: 0.5067\n",
      "Epoch 29/100\n",
      "750/750 [==============================] - 0s 36us/sample - loss: 0.6939 - accuracy: 0.5067\n",
      "Epoch 30/100\n",
      "750/750 [==============================] - 0s 37us/sample - loss: 0.6939 - accuracy: 0.5067\n",
      "Epoch 31/100\n",
      "750/750 [==============================] - 0s 39us/sample - loss: 0.6938 - accuracy: 0.5067\n",
      "Epoch 32/100\n",
      "750/750 [==============================] - 0s 38us/sample - loss: 0.6938 - accuracy: 0.5067\n",
      "Epoch 33/100\n",
      "750/750 [==============================] - 0s 37us/sample - loss: 0.6937 - accuracy: 0.5067\n",
      "Epoch 34/100\n",
      "750/750 [==============================] - 0s 42us/sample - loss: 0.6937 - accuracy: 0.5067\n",
      "Epoch 35/100\n",
      "750/750 [==============================] - 0s 39us/sample - loss: 0.6936 - accuracy: 0.5067\n",
      "Epoch 36/100\n",
      "750/750 [==============================] - 0s 39us/sample - loss: 0.6935 - accuracy: 0.5067\n",
      "Epoch 37/100\n",
      "750/750 [==============================] - 0s 39us/sample - loss: 0.6935 - accuracy: 0.5067\n",
      "Epoch 38/100\n",
      "750/750 [==============================] - 0s 41us/sample - loss: 0.6935 - accuracy: 0.5067\n",
      "Epoch 39/100\n",
      "750/750 [==============================] - 0s 41us/sample - loss: 0.6934 - accuracy: 0.5067\n",
      "Epoch 40/100\n",
      "750/750 [==============================] - 0s 39us/sample - loss: 0.6934 - accuracy: 0.5067\n",
      "Epoch 41/100\n",
      "750/750 [==============================] - 0s 40us/sample - loss: 0.6933 - accuracy: 0.5067\n",
      "Epoch 42/100\n",
      "750/750 [==============================] - 0s 42us/sample - loss: 0.6933 - accuracy: 0.5067\n",
      "Epoch 43/100\n",
      "750/750 [==============================] - 0s 42us/sample - loss: 0.6933 - accuracy: 0.5067\n",
      "Epoch 44/100\n",
      "750/750 [==============================] - 0s 42us/sample - loss: 0.6933 - accuracy: 0.5067\n",
      "Epoch 45/100\n",
      "750/750 [==============================] - 0s 39us/sample - loss: 0.6933 - accuracy: 0.5067\n",
      "Epoch 46/100\n",
      "750/750 [==============================] - 0s 39us/sample - loss: 0.6932 - accuracy: 0.5067\n",
      "Epoch 47/100\n",
      "750/750 [==============================] - 0s 37us/sample - loss: 0.6932 - accuracy: 0.5067\n",
      "Epoch 48/100\n",
      "750/750 [==============================] - 0s 38us/sample - loss: 0.6932 - accuracy: 0.5067\n",
      "Epoch 49/100\n",
      "750/750 [==============================] - 0s 37us/sample - loss: 0.6932 - accuracy: 0.5067\n",
      "Epoch 50/100\n",
      "750/750 [==============================] - 0s 37us/sample - loss: 0.6932 - accuracy: 0.5067\n",
      "Epoch 51/100\n",
      "750/750 [==============================] - 0s 37us/sample - loss: 0.6931 - accuracy: 0.5067\n",
      "Epoch 52/100\n",
      "750/750 [==============================] - 0s 39us/sample - loss: 0.6932 - accuracy: 0.5067\n",
      "Epoch 53/100\n",
      "750/750 [==============================] - 0s 38us/sample - loss: 0.6932 - accuracy: 0.5067\n",
      "Epoch 54/100\n",
      "750/750 [==============================] - 0s 38us/sample - loss: 0.6931 - accuracy: 0.5067\n",
      "Epoch 55/100\n",
      "750/750 [==============================] - 0s 38us/sample - loss: 0.6931 - accuracy: 0.5067\n",
      "Epoch 56/100\n",
      "750/750 [==============================] - 0s 38us/sample - loss: 0.6931 - accuracy: 0.5067\n",
      "Epoch 57/100\n",
      "750/750 [==============================] - 0s 37us/sample - loss: 0.6931 - accuracy: 0.5067\n",
      "Epoch 58/100\n",
      "750/750 [==============================] - 0s 36us/sample - loss: 0.6930 - accuracy: 0.5067\n",
      "Epoch 59/100\n",
      "750/750 [==============================] - 0s 37us/sample - loss: 0.6930 - accuracy: 0.5067\n",
      "Epoch 60/100\n",
      "750/750 [==============================] - 0s 38us/sample - loss: 0.6930 - accuracy: 0.5067\n",
      "Epoch 61/100\n",
      "750/750 [==============================] - 0s 36us/sample - loss: 0.6930 - accuracy: 0.5067\n",
      "Epoch 62/100\n",
      "750/750 [==============================] - 0s 37us/sample - loss: 0.6929 - accuracy: 0.5067\n",
      "Epoch 63/100\n",
      "750/750 [==============================] - 0s 35us/sample - loss: 0.6928 - accuracy: 0.5067\n",
      "Epoch 64/100\n",
      "750/750 [==============================] - 0s 37us/sample - loss: 0.6926 - accuracy: 0.5067\n",
      "Epoch 65/100\n",
      "750/750 [==============================] - 0s 37us/sample - loss: 0.6924 - accuracy: 0.5067\n",
      "Epoch 66/100\n",
      "750/750 [==============================] - 0s 35us/sample - loss: 0.6918 - accuracy: 0.5067\n",
      "Epoch 67/100\n",
      "750/750 [==============================] - 0s 36us/sample - loss: 0.6909 - accuracy: 0.5067\n",
      "Epoch 68/100\n",
      "750/750 [==============================] - 0s 35us/sample - loss: 0.6892 - accuracy: 0.5067\n",
      "Epoch 69/100\n",
      "750/750 [==============================] - 0s 34us/sample - loss: 0.6862 - accuracy: 0.5067\n",
      "Epoch 70/100\n",
      "750/750 [==============================] - 0s 36us/sample - loss: 0.6809 - accuracy: 0.5067\n",
      "Epoch 71/100\n",
      "750/750 [==============================] - 0s 37us/sample - loss: 0.6721 - accuracy: 0.5067\n",
      "Epoch 72/100\n",
      "750/750 [==============================] - 0s 35us/sample - loss: 0.6587 - accuracy: 0.5067\n",
      "Epoch 73/100\n",
      "750/750 [==============================] - 0s 36us/sample - loss: 0.6387 - accuracy: 0.5067\n",
      "Epoch 74/100\n",
      "750/750 [==============================] - 0s 35us/sample - loss: 0.6137 - accuracy: 0.5307\n",
      "Epoch 75/100\n",
      "750/750 [==============================] - 0s 36us/sample - loss: 0.5854 - accuracy: 0.9453\n",
      "Epoch 76/100\n",
      "750/750 [==============================] - 0s 36us/sample - loss: 0.5557 - accuracy: 0.9507\n",
      "Epoch 77/100\n",
      "750/750 [==============================] - 0s 35us/sample - loss: 0.5269 - accuracy: 0.9547\n",
      "Epoch 78/100\n"
     ]
    },
    {
     "name": "stdout",
     "output_type": "stream",
     "text": [
      "750/750 [==============================] - 0s 37us/sample - loss: 0.5001 - accuracy: 0.9600\n",
      "Epoch 79/100\n",
      "750/750 [==============================] - 0s 37us/sample - loss: 0.4756 - accuracy: 0.9653\n",
      "Epoch 80/100\n",
      "750/750 [==============================] - 0s 34us/sample - loss: 0.4533 - accuracy: 0.9667\n",
      "Epoch 81/100\n",
      "750/750 [==============================] - 0s 34us/sample - loss: 0.4329 - accuracy: 0.9667\n",
      "Epoch 82/100\n",
      "750/750 [==============================] - 0s 34us/sample - loss: 0.4142 - accuracy: 0.9720\n",
      "Epoch 83/100\n",
      "750/750 [==============================] - 0s 34us/sample - loss: 0.3973 - accuracy: 0.9733\n",
      "Epoch 84/100\n",
      "750/750 [==============================] - 0s 34us/sample - loss: 0.3816 - accuracy: 0.9773\n",
      "Epoch 85/100\n",
      "750/750 [==============================] - 0s 34us/sample - loss: 0.3671 - accuracy: 0.9800\n",
      "Epoch 86/100\n",
      "750/750 [==============================] - 0s 33us/sample - loss: 0.3537 - accuracy: 0.9827\n",
      "Epoch 87/100\n",
      "750/750 [==============================] - 0s 41us/sample - loss: 0.3411 - accuracy: 0.9840\n",
      "Epoch 88/100\n",
      "750/750 [==============================] - 0s 34us/sample - loss: 0.3293 - accuracy: 0.9867\n",
      "Epoch 89/100\n",
      "750/750 [==============================] - 0s 34us/sample - loss: 0.3184 - accuracy: 0.9880\n",
      "Epoch 90/100\n",
      "750/750 [==============================] - 0s 34us/sample - loss: 0.3080 - accuracy: 0.9893\n",
      "Epoch 91/100\n",
      "750/750 [==============================] - 0s 35us/sample - loss: 0.2982 - accuracy: 0.9893\n",
      "Epoch 92/100\n",
      "750/750 [==============================] - 0s 33us/sample - loss: 0.2890 - accuracy: 0.9920\n",
      "Epoch 93/100\n",
      "750/750 [==============================] - 0s 34us/sample - loss: 0.2803 - accuracy: 0.9933\n",
      "Epoch 94/100\n",
      "750/750 [==============================] - 0s 34us/sample - loss: 0.2721 - accuracy: 0.9933\n",
      "Epoch 95/100\n",
      "750/750 [==============================] - 0s 34us/sample - loss: 0.2642 - accuracy: 0.9947\n",
      "Epoch 96/100\n",
      "750/750 [==============================] - 0s 34us/sample - loss: 0.2568 - accuracy: 0.9947\n",
      "Epoch 97/100\n",
      "750/750 [==============================] - 0s 35us/sample - loss: 0.2497 - accuracy: 0.9947\n",
      "Epoch 98/100\n",
      "750/750 [==============================] - 0s 34us/sample - loss: 0.2430 - accuracy: 0.9947\n",
      "Epoch 99/100\n",
      "750/750 [==============================] - 0s 34us/sample - loss: 0.2366 - accuracy: 0.9947\n",
      "Epoch 100/100\n",
      "750/750 [==============================] - 0s 35us/sample - loss: 0.2304 - accuracy: 0.9947\n"
     ]
    }
   ],
   "source": [
    "# Fit the model to the training data\n",
    "fit_model = nn_model.fit(X_train_scaled, y_train, epochs=100)"
   ]
  },
  {
   "cell_type": "code",
   "execution_count": 11,
   "id": "17074313",
   "metadata": {},
   "outputs": [
    {
     "data": {
      "text/plain": [
       "<AxesSubplot:>"
      ]
     },
     "execution_count": 11,
     "metadata": {},
     "output_type": "execute_result"
    },
    {
     "data": {
      "image/png": "[encoded data removed]",
      "text/plain": [
       "<Figure size 432x288 with 1 Axes>"
      ]
     },
     "metadata": {
      "needs_background": "light"
     },
     "output_type": "display_data"
    }
   ],
   "source": [
    "# Create a DataFrame containing training history\n",
    "history_df = pd.DataFrame(fit_model.history, index=range(1,len(fit_model.history[\"loss\"])+1))\n",
    "\n",
    "# Plot the loss\n",
    "history_df.plot(y=\"loss\")"
   ]
  },
  {
   "cell_type": "code",
   "execution_count": 12,
   "id": "9ae2fcb2",
   "metadata": {},
   "outputs": [
    {
     "data": {
      "text/plain": [
       "<AxesSubplot:>"
      ]
     },
     "execution_count": 12,
     "metadata": {},
     "output_type": "execute_result"
    },
    {
     "data": {
      "image/png": "[encoded data removed]",
      "text/plain": [
       "<Figure size 432x288 with 1 Axes>"
      ]
     },
     "metadata": {
      "needs_background": "light"
     },
     "output_type": "display_data"
    }
   ],
   "source": [
    "# Plot the accuracy\n",
    "history_df.plot(y=\"accuracy\")"
   ]
  },
  {
   "cell_type": "code",
   "execution_count": 13,
   "id": "fc539160",
   "metadata": {},
   "outputs": [
    {
     "name": "stdout",
     "output_type": "stream",
     "text": [
      "250/1 - 0s - loss: 0.1986 - accuracy: 0.9960\n",
      "Loss: 0.22968462419509889, Accuracy: 0.9959999918937683\n"
     ]
    }
   ],
   "source": [
    "# Evaluate the model using the test data\n",
    "model_loss, model_accuracy = nn_model.evaluate(X_test_scaled,y_test,verbose=2)\n",
    "print(f\"Loss: {model_loss}, Accuracy: {model_accuracy}\")"
   ]
  },
  {
   "cell_type": "code",
   "execution_count": 14,
   "id": "f638dc4c",
   "metadata": {},
   "outputs": [
    {
     "data": {
      "text/plain": [
       "array([[0],\n",
       "       [1],\n",
       "       [0],\n",
       "       [1],\n",
       "       [0],\n",
       "       [0],\n",
       "       [1],\n",
       "       [1],\n",
       "       [1],\n",
       "       [0]], dtype=int32)"
      ]
     },
     "execution_count": 14,
     "metadata": {},
     "output_type": "execute_result"
    }
   ],
   "source": [
    "# Predict the classification of a new set of blob data\n",
    "new_X, new_Y = make_blobs(n_samples=10, centers=2, n_features=2, random_state=78)\n",
    "new_X_scaled = X_scaler.transform(new_X)\n",
    "(nn_model.predict(new_X_scaled) > 0.5).astype(\"int32\")"
   ]
  },
  {
   "cell_type": "code",
   "execution_count": null,
   "id": "09ebce15",
   "metadata": {},
   "outputs": [],
   "source": []
  }
 ],
 "metadata": {
  "kernelspec": {
   "display_name": "mlenv",
   "language": "python",
   "name": "mlenv"
  },
  "language_info": {
   "codemirror_mode": {
    "name": "ipython",
    "version": 3
   },
   "file_extension": ".py",
   "mimetype": "text/x-python",
   "name": "python",
   "nbconvert_exporter": "python",
   "pygments_lexer": "ipython3",
   "version": "3.7.10"
  }
 },
 "nbformat": 4,
 "nbformat_minor": 5
}
